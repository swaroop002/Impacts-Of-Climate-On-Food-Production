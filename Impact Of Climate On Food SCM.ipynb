{
 "cells": [
  {
   "cell_type": "markdown",
   "id": "6ef9c750-24f2-4dad-8742-6d09cd20eda9",
   "metadata": {
    "slideshow": {
     "slide_type": "slide"
    },
    "tags": []
   },
   "source": []
  },
  {
   "cell_type": "code",
   "execution_count": null,
   "id": "edd2da41-c2e6-4ba8-b71c-c932c255c2d6",
   "metadata": {},
   "outputs": [],
   "source": [
    "!pip install datapackage\n",
    "!pip install seaborn\n",
    "!pip install xlsxwriter "
   ]
  },
  {
   "cell_type": "code",
   "execution_count": null,
   "id": "63de0648-42b2-466e-b92a-4d74884ee0e3",
   "metadata": {},
   "outputs": [],
   "source": [
    "import pandas as pd\n",
    "import warnings\n",
    "warnings.simplefilter(action='ignore', category=FutureWarning)\n",
    "import matplotlib.pyplot as plt\n",
    "import seaborn as sns\n",
    "from os import listdir\n",
    "from os.path import isfile, join\n",
    "import datapackage\n",
    "from numpy import mean\n",
    "from numpy import std\n",
    "from scipy.stats import pearsonr\n",
    "from matplotlib import pyplot\n",
    "from os import listdir\n",
    "from os.path import isfile, join\n",
    "import xlsxwriter"
   ]
  },
  {
   "cell_type": "code",
   "execution_count": null,
   "id": "6e42a8a2-fae0-4337-9e5f-cc2eaa9db737",
   "metadata": {},
   "outputs": [],
   "source": [
    "df_temp = pd.read_csv(\"data/temperature.csv\")\n",
    "print(df_temp.head())\n",
    "avg_temp=df_temp['ANNUAL'].mean()\n",
    "print(avg_temp)"
   ]
  },
  {
   "cell_type": "code",
   "execution_count": null,
   "id": "d9d67b8c-3375-4666-8820-6b8c578470e8",
   "metadata": {},
   "outputs": [],
   "source": [
    "sns.set()\n",
    "sns.lineplot(df_temp[\"YEAR\"], df_temp[\"ANNUAL\"])\n",
    "plt.ylabel(\"Mean\")\n",
    "plt.title(\"Average Yearly Temperature\")"
   ]
  },
  {
   "cell_type": "code",
   "execution_count": null,
   "id": "c6bc9743-08ee-425b-a0ec-4cbd7cafa82d",
   "metadata": {},
   "outputs": [],
   "source": [
    "df_rain=pd.read_csv(\"data/rainfall.csv\")\n",
    "print(df_rain.head())\n",
    "avg_rain=df_rain['ANN'].mean()\n",
    "print(avg_rain)"
   ]
  },
  {
   "cell_type": "code",
   "execution_count": null,
   "id": "b28a09b5-fbae-44d1-be9c-3f2f4da43910",
   "metadata": {},
   "outputs": [],
   "source": [
    "sns.set()\n",
    "sns.lineplot(df_rain['YEAR'], df_rain['ANN'])\n",
    "plt.ylabel(\"MM\")\n",
    "plt.title(\"Average Yearly Rainfall\")"
   ]
  },
  {
   "cell_type": "code",
   "execution_count": null,
   "id": "bade44be-1245-4f0c-baa6-0548833c4055",
   "metadata": {},
   "outputs": [],
   "source": [
    "files = [f for f in listdir(\"data/Crops\") if isfile(join(\"data/Crops\",f))]\n",
    "print(files)"
   ]
  },
  {
   "cell_type": "code",
   "execution_count": null,
   "id": "2cd25049-6d64-4adb-b99f-40445041fcd5",
   "metadata": {},
   "outputs": [],
   "source": [
    "crops=[]\n",
    "for  file in files:\n",
    "    cr=file.split(\".\")\n",
    "    cr=cr[0]\n",
    "    cr=cr.capitalize()\n",
    "    crops.append(cr)\n",
    "print(crops) "
   ]
  },
  {
   "cell_type": "code",
   "execution_count": null,
   "id": "2e3355ca-3233-4bd4-87ef-0a7e6357dfb3",
   "metadata": {},
   "outputs": [],
   "source": [
    "def rel(data):\n",
    "    rel=\"\"\n",
    "    if data>=-1 and data<=-0.5:\n",
    "        rel=\"neg\"\n",
    "    elif data>=-0.5 and data<=-0.2:\n",
    "        rel=\"slneg\"\n",
    "    elif data>=-0.2 and data<=0.2:\n",
    "        rel=\"zero\"\n",
    "    elif data>=0.2 and data<=0.5:\n",
    "        rel=\"slpos\"\n",
    "    elif data>=0.5 and data<=1:\n",
    "        rel=\"pos\"\n",
    "    return rel"
   ]
  },
  {
   "cell_type": "code",
   "execution_count": null,
   "id": "e46421ba-9d0f-4769-a344-6172abc03511",
   "metadata": {},
   "outputs": [],
   "source": [
    "workbook = xlsxwriter.Workbook('Output/Overview.xlsx')\n",
    "worksheet = workbook.add_worksheet()\n",
    "worksheet.write('A1', 'Crops')\n",
    "worksheet.write('B1', 'Yield & Rainfall')\n",
    "worksheet.write('C1', 'Area Harvested & Rainfall')\n",
    "worksheet.write('D1', 'Production & Rainfall')\n",
    "worksheet.write('E1', 'Rainfall Average')\n",
    "worksheet.write('F1', 'Yield & Temperature')\n",
    "worksheet.write('G1', 'Area Harvested & Temperature')\n",
    "worksheet.write('H1', 'Production & Temperature')\n",
    "worksheet.write('I1', 'Temperature Average')\n",
    "\n",
    "df_temp = pd.read_csv(\"data/temperature.csv\")\n",
    "df_rain = pd.read_csv(\"data/rainfall.csv\")\n",
    "r=1\n",
    "c=0\n",
    "for file in files:\n",
    "    cr=file.split(\".\")\n",
    "    \n",
    "    \n",
    "    cr=cr[0]\n",
    "    cr=cr.capitalize()\n",
    "    worksheet.write(r, c, cr)\n",
    "    c=c+1\n",
    "    sum=0\n",
    "    df_crop = pd.read_csv(\"data/Crops/\"+file)\n",
    "    df_yields=df_crop[df_crop['Element']=='Yield']\n",
    "    df_area=df_crop[df_crop['Element']=='Area harvested']\n",
    "    df_prod=df_crop[df_crop['Element']=='Production']\n",
    "    corr, _ = pearsonr(df_prod['Value'], df_rain['ANN'])\n",
    "    sum=sum+corr\n",
    "    worksheet.write(r, c, rel(corr))\n",
    "    c=c+1\n",
    "\n",
    "    corr, _ = pearsonr(df_area['Value'], df_rain['ANN'])\n",
    "    sum=sum+corr\n",
    "    worksheet.write(r, c, rel(corr))\n",
    "    c=c+1\n",
    "\n",
    "    corr, _ = pearsonr(df_yields['Value'], df_rain['ANN'])\n",
    "    sum=sum+corr\n",
    "    worksheet.write(r, c, rel(corr))\n",
    "    c=c+1\n",
    "    worksheet.write(r, c, rel(sum/3))\n",
    "    c=c+1\n",
    "    sum=0\n",
    "    corr, _ = pearsonr(df_prod['Value'], df_temp['ANNUAL'])\n",
    "    sum=sum+corr\n",
    "    worksheet.write(r, c, rel(corr))\n",
    "    c=c+1\n",
    "\n",
    "    corr, _ = pearsonr(df_area['Value'], df_temp['ANNUAL'])\n",
    "    sum=sum+corr\n",
    "    worksheet.write(r, c, rel(corr))\n",
    "    c=c+1\n",
    "\n",
    "    corr, _ = pearsonr(df_yields['Value'], df_temp['ANNUAL'])\n",
    "    sum=sum+corr\n",
    "    worksheet.write(r, c, rel(corr))\n",
    "    c=c+1\n",
    "    worksheet.write(r, c, rel(sum/3))\n",
    "    c=c+1\n",
    "    r=r+1\n",
    "    c=0\n",
    "workbook.close()\n",
    "print(\"File Generated : Output/Overview.xlsx\")"
   ]
  },
  {
   "cell_type": "code",
   "execution_count": null,
   "id": "693a5f8a-eb50-403a-a814-1ce76221d957",
   "metadata": {},
   "outputs": [],
   "source": [
    "workbook = xlsxwriter.Workbook('Output/Detailed.xlsx')\n",
    "worksheet = workbook.add_worksheet()\n",
    "worksheet.write('A1', 'Crops')\n",
    "worksheet.write('B1', 'Yield & Rainfall')\n",
    "worksheet.write('C1', 'Area Harvested & Rainfall')\n",
    "worksheet.write('D1', 'Production & Rainfall')\n",
    "worksheet.write('E1', 'Rainfall Average')\n",
    "worksheet.write('F1', 'Yield & Temperature')\n",
    "worksheet.write('G1', 'Area Harvested & Temperature')\n",
    "worksheet.write('H1', 'Production & Temperature')\n",
    "worksheet.write('I1', 'Temperature Average')\n",
    "\n",
    "df_temp = pd.read_csv(\"data/temperature.csv\")\n",
    "df_rain = pd.read_csv(\"data/rainfall.csv\")\n",
    "r=1\n",
    "c=0\n",
    "for file in files:\n",
    "\n",
    "    cr=file.split(\".\")\n",
    "    \n",
    "    sum=0\n",
    "    cr=cr[0]\n",
    "    cr=cr.capitalize()\n",
    "    worksheet.write(r, c, cr)\n",
    "    c=c+1\n",
    "    df_crop = pd.read_csv(\"data/Crops/\"+file)\n",
    "    df_yields=df_crop[df_crop['Element']=='Yield']\n",
    "    df_area=df_crop[df_crop['Element']=='Area harvested']\n",
    "    df_prod=df_crop[df_crop['Element']=='Production']\n",
    "    corr, _ = pearsonr(df_prod['Value'], df_rain['ANN'])\n",
    "    sum=sum+corr\n",
    "    worksheet.write(r, c, corr)\n",
    "    c=c+1\n",
    "\n",
    "    corr, _ = pearsonr(df_area['Value'], df_rain['ANN'])\n",
    "    sum=sum+corr\n",
    "    worksheet.write(r, c, corr)\n",
    "    c=c+1\n",
    "\n",
    "    corr, _ = pearsonr(df_yields['Value'], df_rain['ANN'])\n",
    "    sum=sum+corr\n",
    "    worksheet.write(r, c, corr)\n",
    "    c=c+1\n",
    "    worksheet.write(r, c, (sum/3))\n",
    "    c=c+1\n",
    "    sum=0\n",
    "    \n",
    "    corr, _ = pearsonr(df_prod['Value'], df_temp['ANNUAL'])\n",
    "    sum=sum+corr\n",
    "    worksheet.write(r, c, corr)\n",
    "    c=c+1\n",
    "\n",
    "    corr, _ = pearsonr(df_area['Value'], df_temp['ANNUAL'])\n",
    "    sum=sum+corr\n",
    "    worksheet.write(r, c, corr)\n",
    "    c=c+1\n",
    "\n",
    "    corr, _ = pearsonr(df_yields['Value'], df_temp['ANNUAL'])\n",
    "    sum=sum+corr\n",
    "    worksheet.write(r, c, corr)\n",
    "    \n",
    "    c=c+1\n",
    "    worksheet.write(r, c, (sum/3))\n",
    "    c=c+1\n",
    "    r=r+1\n",
    "    c=0\n",
    "workbook.close()\n",
    "print(\"File Generated : Output/Detailed.xlsx\")"
   ]
  },
  {
   "cell_type": "markdown",
   "id": "90bcb8af-f044-4643-a126-324145f0af89",
   "metadata": {},
   "source": [
    "Graphs for one crop"
   ]
  },
  {
   "cell_type": "code",
   "execution_count": null,
   "id": "f5df03ba-7d8a-41b6-8ec8-abbe123c3c36",
   "metadata": {},
   "outputs": [],
   "source": [
    "def prod_wrt_rain(data):\n",
    "    print(\"\\nConclusion W.R.T Rainfall\")\n",
    "    status=\"\"\n",
    "    if data>=-1 and data<=-0.2:\n",
    "        status=\"1) Production is Likely to Increase if The Rainfall Decreases On which the Price Decreases\\n2) Production is Likely to Decrease if The Rainfall Increases On which the Price Increases\"\n",
    "    elif data>=-0.2 and data<=0.2:\n",
    "        status=\"1) Production remains Unaffected unless there is a Drastic Change in The Rainfall. The Price remains Unchanged\"\n",
    "    elif data>=0.2 and data<=1:\n",
    "        status=\"1) Production is Likely to Increase if The Rainfall Increases On which the Price Decreases\\n2) Production is Likely to Decrease if The Rainfall Decreases On which the Price Increases\"\n",
    "    return status"
   ]
  },
  {
   "cell_type": "code",
   "execution_count": null,
   "id": "430ad9fa-a5be-4ea8-9d95-548390dd35ac",
   "metadata": {},
   "outputs": [],
   "source": [
    "def prod_wrt_temp(data):\n",
    "    print(\"\\nConclusion W.R.T Temperature\")\n",
    "    status=\"\"\n",
    "    if data>=-1 and data<=-0.2:\n",
    "        status=\"1) Production is Likely to Increase if The Temperature Decreases On which the Price Decreases\\n2) Production is Likely to Decrease if The Temperature Increases On which the Price Increases\"\n",
    "    elif data>=-0.2 and data<=0.2:\n",
    "        status=\"1) Production remains Unaffected unless there is a Drastic Change in The Temperature The Price remains Unchanged\"\n",
    "    elif data>=0.2 and data<=1:\n",
    "        status=\"1) Production is Likely to Increase if The Temperature Increases On which the Price Decreases\\n2) Production is Likely to Decrease if The Temperature Decreases On which the Price Increases\"\n",
    "    return status"
   ]
  },
  {
   "cell_type": "code",
   "execution_count": null,
   "id": "4375e332-6103-4b49-9687-1b41b58770e5",
   "metadata": {},
   "outputs": [],
   "source": [
    "sum=0\n",
    "df_temp = pd.read_csv(\"data/temperature.csv\")\n",
    "df_rain = pd.read_csv(\"data/rainfall.csv\")\n",
    "\n",
    "print(crops)\n",
    "print(\"Select One : \")\n",
    "file=input()\n",
    "df_crop = pd.read_csv(\"data/Crops/\"+file+\".csv\")\n",
    "df_yields=df_crop[df_crop['Element']=='Yield']\n",
    "df_area=df_crop[df_crop['Element']=='Area harvested']\n",
    "df_prod=df_crop[df_crop['Element']=='Production']\n",
    "print(\"Tepmerature\")\n",
    "\n",
    "pyplot.scatter(df_prod['Value'], df_temp[\"ANNUAL\"])\n",
    "pyplot.title(\"\")\n",
    "pyplot.show()\n",
    "corr, _ = pearsonr(df_prod['Value'], df_temp['ANNUAL'])\n",
    "sum=sum+corr\n",
    "print(corr)\n",
    "print(rel(corr))\n",
    "\n",
    "pyplot.scatter(df_area['Value'], df_temp[\"ANNUAL\"])\n",
    "pyplot.show()\n",
    "corr, _ = pearsonr(df_area['Value'], df_temp['ANNUAL'])\n",
    "sum=sum+corr\n",
    "print(corr)   \n",
    "print(rel(corr))\n",
    "\n",
    "pyplot.scatter(df_yields['Value'], df_temp[\"ANNUAL\"])\n",
    "pyplot.show()\n",
    "corr, _ = pearsonr(df_yields['Value'], df_temp['ANNUAL'])\n",
    "sum=sum+corr\n",
    "print(corr)\n",
    "print(rel(corr))\n",
    "avg_wrt_temp=sum/3\n",
    "sum=0\n",
    "print(\"Rainfall\")\n",
    "\n",
    "pyplot.scatter(df_area['Value'], df_rain['ANN'])\n",
    "pyplot.show()\n",
    "corr, _ = pearsonr(df_area['Value'], df_rain['ANN'])\n",
    "sum=sum+corr\n",
    "\n",
    "print(corr)\n",
    "print(rel(corr))\n",
    "\n",
    "pyplot.scatter(df_prod['Value'], df_rain['ANN'])\n",
    "pyplot.show()\n",
    "corr, _ = pearsonr(df_prod['Value'], df_rain['ANN'])\n",
    "sum=sum+corr\n",
    "print(corr)\n",
    "print(rel(corr))\n",
    "\n",
    "pyplot.scatter(df_yields['Value'], df_rain['ANN'])\n",
    "pyplot.show()\n",
    "corr, _ = pearsonr(df_yields['Value'], df_rain['ANN'])\n",
    "sum=sum+corr\n",
    "avg_wrt_rain=sum/3\n",
    "print(corr)\n",
    "print(rel(corr))\n",
    "print(\"Analyzing The above Data we Come to a conclusion\\n\\n\")\n",
    "print(prod_wrt_temp(avg_wrt_temp))\n",
    "print(prod_wrt_rain(avg_wrt_rain))"
   ]
  },
  {
   "cell_type": "markdown",
   "id": "0dd44f21-83c8-4c07-9c70-8e3e4c900a99",
   "metadata": {},
   "source": [
    "Analysis on Real time data"
   ]
  },
  {
   "cell_type": "code",
   "execution_count": null,
   "id": "55230dd7-a4bb-483a-a165-6703e0da39a7",
   "metadata": {},
   "outputs": [],
   "source": [
    "def realtime_prod_wrt_temp(avg_wrt_temp,r_temp):\n",
    "    status=\"\"\n",
    "    global avg_temp\n",
    "    bw=avg_temp*0.40\n",
    "    low=avg_temp-bw\n",
    "    high=avg_temp+bw\n",
    "    print(\"\\nConclusion W.R.T Temperature\")\n",
    "    status=\"\"\n",
    "    if(not(r_temp>high or r_temp<low)):\n",
    "        if avg_wrt_temp>=-1 and avg_wrt_temp<=-0.1:\n",
    "            if(r_temp<(avg_temp-(avg_temp*0.05))):\n",
    "                status=\"Production is Likely to Increase as The Temperature Is Below Average which will cause the Price to Decreases\"\n",
    "            \n",
    "            elif(r_temp>(avg_temp+(avg_temp*0.05))):\n",
    "                status=\"Production is Likely to Decrease as The Temperature Is Above Average Causing the Price to Increase\"\n",
    "            \n",
    "            else:\n",
    "                status=\"Production would be Slightly affected.\\n This will cause The Price to remain Unchanged\"\n",
    "                \n",
    "        elif avg_wrt_temp>=0.2 and avg_wrt_temp<=1:\n",
    "            if(r_temp<(avg_temp-(avg_temp*0.10))):\n",
    "                status=\"Production is Likely to Decrease as The Temperature Is Below Average which will cause the Price to Increases\"\n",
    "            \n",
    "            elif(r_temp>(avg_temp+(avg_temp*0.10))):\n",
    "                status=\"Production is Likely to Increase as The Temperature Is Above Average Causing the Price to Decrease\"\n",
    "            \n",
    "            else:\n",
    "                status=\"Production would be Slightly affected.\\n This will cause The Price to remain Unchanged\"\n",
    "            \n",
    "        else:\n",
    "            status=\"Production would be Slightly affected.\\n This will cause The Price to Slightly Change\"\n",
    "            \n",
    "    else:\n",
    "        status=\"This will Diversly affect the production and price aswell\"\n",
    "    return status"
   ]
  },
  {
   "cell_type": "code",
   "execution_count": null,
   "id": "574c9cb0-02cd-4638-ad84-2ef747b301c1",
   "metadata": {},
   "outputs": [],
   "source": [
    "def realtime_prod_wrt_rain(avg_wrt_rain,r_rain):\n",
    "    status=\"\"\n",
    "    global avg_rain\n",
    "    bw=avg_rain*0.70\n",
    "    low=avg_rain-bw\n",
    "    high=avg_rain+bw\n",
    "    print(\"\\nConclusion W.R.T Rainfall\")\n",
    "    if(not(r_rain>high or r_rain<low)):\n",
    "        if avg_wrt_rain>=-1 and avg_wrt_rain<=-0.1:\n",
    "            if(r_rain<(avg_rain-(avg_rain*0.1))):\n",
    "                status=\"Production is Likely to Increase as The Rainfall Is Below Average which will cause the Price to Decreases\"\n",
    "            \n",
    "            elif(r_rain>(avg_rain+(avg_rain*0.1))):\n",
    "                status=\"Production is Likely to Decrease as The Rainfall Is Above Average Causing the Price to Increase\"\n",
    "            \n",
    "            else:\n",
    "                status=\"Production would be Slightly affected.\\n This will cause The Price to remain Unchanged\"\n",
    "                \n",
    "        elif avg_wrt_rain>=0.2 and avg_wrt_rain<=1:\n",
    "            if(r_rain<(avg_rain-(avg_rain*0.1))):\n",
    "                status=\"Production is Likely to Decrease as The Rainfall Is Below Average which will cause the Price to Increases\"\n",
    "            \n",
    "            elif(r_rain>(avg_rain+(avg_rain*0.1))):\n",
    "                status=\"Production is Likely to Increase as The Rainfall Is Above Average Causing the Price to Decrease\"\n",
    "            \n",
    "            else:\n",
    "                status=\"Production would be Slightly affected.\\n This will cause The Price to remain Unchanged\"\n",
    "            \n",
    "        else:\n",
    "            status=\"Production would be Slightly affected.\\n This will cause The Price to Slightly Change\"\n",
    "            \n",
    "    else:\n",
    "        status=\"This will Diversly affect the production and price aswell\"\n",
    "    return status"
   ]
  },
  {
   "cell_type": "code",
   "execution_count": null,
   "id": "229b754a-b229-4eb0-9866-584c028d8e80",
   "metadata": {},
   "outputs": [],
   "source": [
    "sum=0\n",
    "df_temp = pd.read_csv(\"data/temperature.csv\")\n",
    "df_rain = pd.read_csv(\"data/rainfall.csv\")\n",
    "\n",
    "print(crops)\n",
    "print(\"Select One : \")\n",
    "file=input()\n",
    "df_crop = pd.read_csv(\"data/Crops/\"+file+\".csv\")\n",
    "df_yields=df_crop[df_crop['Element']=='Yield']\n",
    "df_area=df_crop[df_crop['Element']=='Area harvested']\n",
    "df_prod=df_crop[df_crop['Element']=='Production']\n",
    "print(\"Tepmerature\")\n",
    "\n",
    "corr, _ = pearsonr(df_prod['Value'], df_temp['ANNUAL'])\n",
    "sum=sum+corr\n",
    "\n",
    "corr, _ = pearsonr(df_area['Value'], df_temp['ANNUAL'])\n",
    "sum=sum+corr\n",
    "\n",
    "corr, _ = pearsonr(df_yields['Value'], df_temp['ANNUAL'])\n",
    "sum=sum+corr\n",
    "\n",
    "avg_wrt_temp=sum/3\n",
    "sum=0\n",
    "\n",
    "print(\"Rainfall\")\n",
    "\n",
    "corr, _ = pearsonr(df_area['Value'], df_rain['ANN'])\n",
    "sum=sum+corr\n",
    "\n",
    "corr, _ = pearsonr(df_prod['Value'], df_rain['ANN'])\n",
    "sum=sum+corr\n",
    "\n",
    "corr, _ = pearsonr(df_yields['Value'], df_rain['ANN'])\n",
    "sum=sum+corr\n",
    "avg_wrt_rain=sum/3\n",
    "r_temp=input(\"Enter Annual Temperature\")\n",
    "r_rain=input(\"Enter Annual Rainfall\")\n",
    "print(\"Analyzing The above Data we Come to a conclusion\\n\\n\")\n",
    "print(realtime_prod_wrt_temp(float(avg_wrt_temp),float(r_temp)))\n",
    "print(realtime_prod_wrt_rain(float(avg_wrt_rain),float(r_rain)))"
   ]
  },
  {
   "cell_type": "code",
   "execution_count": null,
   "id": "576405d4-5bd9-4542-8513-19d9bb2b0328",
   "metadata": {},
   "outputs": [],
   "source": [
    "exec(open(\"GUI.py\").read())"
   ]
  },
  {
   "cell_type": "code",
   "execution_count": null,
   "id": "44e3cbee-1ef1-40dd-8f9c-114837592720",
   "metadata": {},
   "outputs": [],
   "source": [
    "THANK you :)"
   ]
  },
  {
   "cell_type": "code",
   "execution_count": null,
   "id": "928297b1-432c-4e8e-82ca-ddac8a3caca3",
   "metadata": {},
   "outputs": [],
   "source": []
  },
  {
   "cell_type": "code",
   "execution_count": null,
   "id": "c86c12b6-b533-494c-a668-2571ea98411f",
   "metadata": {},
   "outputs": [],
   "source": []
  },
  {
   "cell_type": "code",
   "execution_count": null,
   "id": "615c76c9-6a83-4d9d-bd5d-3502cf253472",
   "metadata": {},
   "outputs": [],
   "source": []
  },
  {
   "cell_type": "code",
   "execution_count": null,
   "id": "7f61ebcd-10c7-4491-aa3f-da67123afc06",
   "metadata": {},
   "outputs": [],
   "source": []
  },
  {
   "cell_type": "code",
   "execution_count": null,
   "id": "52ba5876-1b99-4b36-aa42-95e23d3b4068",
   "metadata": {},
   "outputs": [],
   "source": []
  },
  {
   "cell_type": "code",
   "execution_count": null,
   "id": "1dad004f-d86f-45fd-a90d-cc6cf121b16b",
   "metadata": {},
   "outputs": [],
   "source": []
  },
  {
   "cell_type": "code",
   "execution_count": null,
   "id": "8cc3de05-6a80-4099-9139-e1c2ce4878f4",
   "metadata": {},
   "outputs": [],
   "source": []
  },
  {
   "cell_type": "code",
   "execution_count": null,
   "id": "3ca8829e-a66d-44eb-98f0-3e51f59ce656",
   "metadata": {},
   "outputs": [],
   "source": []
  },
  {
   "cell_type": "code",
   "execution_count": null,
   "id": "2efcb3f0-af52-477f-a401-75501a9ee928",
   "metadata": {},
   "outputs": [],
   "source": []
  },
  {
   "cell_type": "code",
   "execution_count": null,
   "id": "c12bec75-a3c8-4e09-9935-a806bef892e8",
   "metadata": {},
   "outputs": [],
   "source": []
  },
  {
   "cell_type": "code",
   "execution_count": null,
   "id": "20a45129-fa2b-469c-8e06-8848268634a7",
   "metadata": {},
   "outputs": [],
   "source": []
  },
  {
   "cell_type": "code",
   "execution_count": null,
   "id": "c609746c-5c4c-48fe-9ed3-462502a590b1",
   "metadata": {},
   "outputs": [],
   "source": []
  },
  {
   "cell_type": "code",
   "execution_count": null,
   "id": "ce3dd038-acb7-4580-b2cb-34d231509ccf",
   "metadata": {},
   "outputs": [],
   "source": []
  },
  {
   "cell_type": "code",
   "execution_count": null,
   "id": "1cd21114-9a29-42aa-9ef7-33431014bfcc",
   "metadata": {},
   "outputs": [],
   "source": []
  },
  {
   "cell_type": "code",
   "execution_count": null,
   "id": "25b2e12a-599a-49b0-a867-fa8850488adb",
   "metadata": {},
   "outputs": [],
   "source": []
  },
  {
   "cell_type": "code",
   "execution_count": null,
   "id": "5667e25c-8ce8-46a9-9962-fd7b7bf4aecf",
   "metadata": {},
   "outputs": [],
   "source": []
  },
  {
   "cell_type": "code",
   "execution_count": null,
   "id": "432aec0b-ff5d-4776-8660-a49a39cb8556",
   "metadata": {},
   "outputs": [],
   "source": []
  },
  {
   "cell_type": "code",
   "execution_count": null,
   "id": "e3a63641-c573-433e-8aff-0ebc2ea06901",
   "metadata": {},
   "outputs": [],
   "source": []
  },
  {
   "cell_type": "code",
   "execution_count": null,
   "id": "fedeeb34-8562-4a94-b0ab-10449a400de5",
   "metadata": {},
   "outputs": [],
   "source": []
  },
  {
   "cell_type": "code",
   "execution_count": null,
   "id": "027ca3d7-b205-42d7-9bae-c3aaf619457d",
   "metadata": {},
   "outputs": [],
   "source": []
  },
  {
   "cell_type": "code",
   "execution_count": null,
   "id": "f26e04cc-31a2-4393-9a01-c44ad09ee3f4",
   "metadata": {},
   "outputs": [],
   "source": []
  },
  {
   "cell_type": "code",
   "execution_count": null,
   "id": "997c463c-ff20-4d02-8045-8c3e20c1749f",
   "metadata": {},
   "outputs": [],
   "source": []
  },
  {
   "cell_type": "code",
   "execution_count": null,
   "id": "18a4ee91-ac66-400c-8e46-7cec965eb9f3",
   "metadata": {},
   "outputs": [],
   "source": []
  },
  {
   "cell_type": "code",
   "execution_count": null,
   "id": "1e45abb4-2710-4fb3-aa18-c0d3669ac432",
   "metadata": {},
   "outputs": [],
   "source": []
  },
  {
   "cell_type": "code",
   "execution_count": null,
   "id": "e947c7ae-2bd1-47aa-88a6-75c7e90da740",
   "metadata": {},
   "outputs": [],
   "source": []
  },
  {
   "cell_type": "code",
   "execution_count": null,
   "id": "7ba3b2b0-7a40-4717-8e4b-76be935147c9",
   "metadata": {},
   "outputs": [],
   "source": []
  },
  {
   "cell_type": "code",
   "execution_count": null,
   "id": "fabb2bf0-b161-4456-8a32-a4cb55b2b6a5",
   "metadata": {},
   "outputs": [],
   "source": []
  },
  {
   "cell_type": "code",
   "execution_count": null,
   "id": "dc7d3ace-6756-4750-88d1-f744ae816792",
   "metadata": {},
   "outputs": [],
   "source": []
  },
  {
   "cell_type": "code",
   "execution_count": null,
   "id": "94ac19b8-3b48-43da-856c-cb5bd0a2b8f1",
   "metadata": {},
   "outputs": [],
   "source": []
  },
  {
   "cell_type": "code",
   "execution_count": null,
   "id": "d8a3d3cb-0e5e-443f-9ce6-8aeb74ea91a9",
   "metadata": {},
   "outputs": [],
   "source": []
  },
  {
   "cell_type": "code",
   "execution_count": null,
   "id": "47162abe-985e-41fd-a3af-1f26759ae77d",
   "metadata": {},
   "outputs": [],
   "source": []
  },
  {
   "cell_type": "code",
   "execution_count": null,
   "id": "32bb059f-2507-47c6-b266-c8ad20163d6f",
   "metadata": {},
   "outputs": [],
   "source": []
  },
  {
   "cell_type": "code",
   "execution_count": null,
   "id": "a4ec63a9-7e8e-4de1-8913-756a2578fdc8",
   "metadata": {},
   "outputs": [],
   "source": []
  },
  {
   "cell_type": "code",
   "execution_count": null,
   "id": "12350331-e390-4fba-a881-f2c412c789d4",
   "metadata": {},
   "outputs": [],
   "source": []
  },
  {
   "cell_type": "code",
   "execution_count": null,
   "id": "07ff3d69-bc78-4c80-bdc0-230bd3939393",
   "metadata": {},
   "outputs": [],
   "source": []
  },
  {
   "cell_type": "code",
   "execution_count": null,
   "id": "a72bf6ec-23e2-41d8-8595-7ae6b601e38d",
   "metadata": {},
   "outputs": [],
   "source": []
  },
  {
   "cell_type": "code",
   "execution_count": null,
   "id": "e9c10209-886b-4f31-9632-b01e4a9d0e26",
   "metadata": {},
   "outputs": [],
   "source": []
  },
  {
   "cell_type": "code",
   "execution_count": null,
   "id": "cb228055-4cec-4ab9-b85f-38f94af93432",
   "metadata": {},
   "outputs": [],
   "source": []
  },
  {
   "cell_type": "code",
   "execution_count": null,
   "id": "4a4c8cb4-5c39-41f2-a80c-470c3d8e55ae",
   "metadata": {},
   "outputs": [],
   "source": []
  },
  {
   "cell_type": "code",
   "execution_count": null,
   "id": "f7702c91-a899-4317-ac45-ac541a73c3e4",
   "metadata": {},
   "outputs": [],
   "source": []
  },
  {
   "cell_type": "code",
   "execution_count": null,
   "id": "2c607b28-4155-4623-9460-1a3b35f47ca2",
   "metadata": {},
   "outputs": [],
   "source": []
  },
  {
   "cell_type": "code",
   "execution_count": null,
   "id": "1f69bf60-2c53-4324-8ab5-55a78e5360d8",
   "metadata": {},
   "outputs": [],
   "source": []
  },
  {
   "cell_type": "code",
   "execution_count": null,
   "id": "40b44706-aab1-4894-ab7e-196e47b61cbf",
   "metadata": {},
   "outputs": [],
   "source": []
  },
  {
   "cell_type": "code",
   "execution_count": null,
   "id": "422189f8-1e64-40d1-b0e0-2457deb5a4e9",
   "metadata": {},
   "outputs": [],
   "source": []
  },
  {
   "cell_type": "code",
   "execution_count": null,
   "id": "8c1681e9-3290-4f01-8af2-a3212d63ca9a",
   "metadata": {},
   "outputs": [],
   "source": []
  },
  {
   "cell_type": "code",
   "execution_count": null,
   "id": "bc36f50a-f6c4-4b62-925e-0a7424f90da8",
   "metadata": {},
   "outputs": [],
   "source": []
  },
  {
   "cell_type": "code",
   "execution_count": null,
   "id": "22760937-4e6e-4e9c-908d-b7e0e6b21671",
   "metadata": {},
   "outputs": [],
   "source": []
  },
  {
   "cell_type": "code",
   "execution_count": null,
   "id": "0e2cc3b0-66a2-46ff-889c-a4bd7f3605ef",
   "metadata": {},
   "outputs": [],
   "source": []
  },
  {
   "cell_type": "code",
   "execution_count": null,
   "id": "99ba553b-239e-4817-a410-4c16f15dfd17",
   "metadata": {},
   "outputs": [],
   "source": []
  },
  {
   "cell_type": "code",
   "execution_count": null,
   "id": "841c3b6e-46c7-4e20-8608-3dc9c0c45d9c",
   "metadata": {},
   "outputs": [],
   "source": []
  },
  {
   "cell_type": "code",
   "execution_count": null,
   "id": "b8f6fb4d-7feb-4feb-b968-381f6666834a",
   "metadata": {},
   "outputs": [],
   "source": []
  },
  {
   "cell_type": "code",
   "execution_count": null,
   "id": "ba657849-e30f-40a4-a2ae-94aae4db97dc",
   "metadata": {},
   "outputs": [],
   "source": []
  },
  {
   "cell_type": "code",
   "execution_count": null,
   "id": "65d748ca-6242-4f00-ae6e-c66428d319dc",
   "metadata": {},
   "outputs": [],
   "source": []
  },
  {
   "cell_type": "code",
   "execution_count": null,
   "id": "3150e5f9-e65c-4772-a25e-83d591d32f8b",
   "metadata": {},
   "outputs": [],
   "source": []
  },
  {
   "cell_type": "code",
   "execution_count": null,
   "id": "914c07dd-65cd-47d1-ba5b-2d5e50449f84",
   "metadata": {},
   "outputs": [],
   "source": []
  },
  {
   "cell_type": "code",
   "execution_count": null,
   "id": "f5aaaf57-7d64-4fbe-94d4-63c6e7357aad",
   "metadata": {},
   "outputs": [],
   "source": []
  },
  {
   "cell_type": "code",
   "execution_count": null,
   "id": "350a0014-f660-42c4-8bd4-d1fd89e9658a",
   "metadata": {},
   "outputs": [],
   "source": []
  },
  {
   "cell_type": "code",
   "execution_count": null,
   "id": "0c47c389-ec23-4274-ae6e-5b05c1313a8e",
   "metadata": {},
   "outputs": [],
   "source": []
  },
  {
   "cell_type": "code",
   "execution_count": null,
   "id": "4defa673-9785-4d3f-9e8e-f68baae9ef26",
   "metadata": {},
   "outputs": [],
   "source": []
  },
  {
   "cell_type": "code",
   "execution_count": null,
   "id": "0a99cd31-58d3-4ccd-b7f2-dd9b0fdd3ccc",
   "metadata": {},
   "outputs": [],
   "source": []
  },
  {
   "cell_type": "code",
   "execution_count": null,
   "id": "66cd12d0-60df-4a94-9889-2723d2d186a0",
   "metadata": {},
   "outputs": [],
   "source": [
    "\n"
   ]
  }
 ],
 "metadata": {
  "kernelspec": {
   "display_name": "Python 3",
   "language": "python",
   "name": "python3"
  },
  "language_info": {
   "codemirror_mode": {
    "name": "ipython",
    "version": 3
   },
   "file_extension": ".py",
   "mimetype": "text/x-python",
   "name": "python",
   "nbconvert_exporter": "python",
   "pygments_lexer": "ipython3",
   "version": "3.7.4"
  }
 },
 "nbformat": 4,
 "nbformat_minor": 5
}
