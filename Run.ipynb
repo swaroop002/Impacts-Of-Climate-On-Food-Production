{
 "cells": [
  {
   "cell_type": "markdown",
   "id": "1a9fa3f4-9fab-42e1-b7de-0adfd3ba82dc",
   "metadata": {},
   "source": [
    "This File is to run the GUI without running the main notebook"
   ]
  },
  {
   "cell_type": "code",
   "execution_count": 1,
   "id": "ac945e05-6703-4bd4-9923-a0ac7178f018",
   "metadata": {},
   "outputs": [
    {
     "name": "stdout",
     "output_type": "stream",
     "text": [
      "Requirement already satisfied: datapackage in c:\\users\\swaro\\appdata\\local\\programs\\python\\python37\\lib\\site-packages (1.15.2)\n",
      "Requirement already satisfied: six>=1.10 in c:\\users\\swaro\\appdata\\local\\programs\\python\\python37\\lib\\site-packages (from datapackage) (1.16.0)\n",
      "Requirement already satisfied: unicodecsv>=0.14 in c:\\users\\swaro\\appdata\\local\\programs\\python\\python37\\lib\\site-packages (from datapackage) (0.14.1)\n",
      "Requirement already satisfied: click>=6.7 in c:\\users\\swaro\\appdata\\local\\programs\\python\\python37\\lib\\site-packages (from datapackage) (7.1.2)\n",
      "Requirement already satisfied: jsonpointer>=1.10 in c:\\users\\swaro\\appdata\\local\\programs\\python\\python37\\lib\\site-packages (from datapackage) (2.2)\n"
     ]
    },
    {
     "name": "stderr",
     "output_type": "stream",
     "text": [
      "WARNING: You are using pip version 21.2.4; however, version 22.0.3 is available.\n",
      "You should consider upgrading via the 'c:\\users\\swaro\\appdata\\local\\programs\\python\\python37\\python.exe -m pip install --upgrade pip' command.\n"
     ]
    },
    {
     "name": "stdout",
     "output_type": "stream",
     "text": [
      "Requirement already satisfied: tabulator>=1.29 in c:\\users\\swaro\\appdata\\local\\programs\\python\\python37\\lib\\site-packages (from datapackage) (1.53.5)\n",
      "Requirement already satisfied: jsonschema>=2.5 in c:\\users\\swaro\\appdata\\local\\programs\\python\\python37\\lib\\site-packages (from datapackage) (3.2.0)\n",
      "Requirement already satisfied: tableschema>=1.12.1 in c:\\users\\swaro\\appdata\\local\\programs\\python\\python37\\lib\\site-packages (from datapackage) (1.20.2)\n",
      "Requirement already satisfied: requests>=2.8 in c:\\users\\swaro\\appdata\\local\\programs\\python\\python37\\lib\\site-packages (from datapackage) (2.25.1)\n",
      "Requirement already satisfied: chardet>=3.0 in c:\\users\\swaro\\appdata\\local\\programs\\python\\python37\\lib\\site-packages (from datapackage) (4.0.0)\n",
      "Requirement already satisfied: setuptools in c:\\users\\swaro\\appdata\\local\\programs\\python\\python37\\lib\\site-packages (from jsonschema>=2.5->datapackage) (60.5.0)\n",
      "Requirement already satisfied: attrs>=17.4.0 in c:\\users\\swaro\\appdata\\local\\programs\\python\\python37\\lib\\site-packages (from jsonschema>=2.5->datapackage) (21.2.0)\n",
      "Requirement already satisfied: pyrsistent>=0.14.0 in c:\\users\\swaro\\appdata\\local\\programs\\python\\python37\\lib\\site-packages (from jsonschema>=2.5->datapackage) (0.17.3)\n",
      "Requirement already satisfied: importlib-metadata in c:\\users\\swaro\\appdata\\local\\programs\\python\\python37\\lib\\site-packages (from jsonschema>=2.5->datapackage) (4.5.0)\n",
      "Requirement already satisfied: urllib3<1.27,>=1.21.1 in c:\\users\\swaro\\appdata\\local\\programs\\python\\python37\\lib\\site-packages (from requests>=2.8->datapackage) (1.26.5)\n",
      "Requirement already satisfied: idna<3,>=2.5 in c:\\users\\swaro\\appdata\\local\\programs\\python\\python37\\lib\\site-packages (from requests>=2.8->datapackage) (2.10)\n",
      "Requirement already satisfied: certifi>=2017.4.17 in c:\\users\\swaro\\appdata\\local\\programs\\python\\python37\\lib\\site-packages (from requests>=2.8->datapackage) (2020.12.5)\n",
      "Requirement already satisfied: isodate>=0.5.4 in c:\\users\\swaro\\appdata\\local\\programs\\python\\python37\\lib\\site-packages (from tableschema>=1.12.1->datapackage) (0.6.1)\n",
      "Requirement already satisfied: rfc3986>=1.1.0 in c:\\users\\swaro\\appdata\\local\\programs\\python\\python37\\lib\\site-packages (from tableschema>=1.12.1->datapackage) (1.5.0)\n",
      "Requirement already satisfied: cached-property>=1.5 in c:\\users\\swaro\\appdata\\local\\programs\\python\\python37\\lib\\site-packages (from tableschema>=1.12.1->datapackage) (1.5.2)\n",
      "Requirement already satisfied: python-dateutil>=2.4 in c:\\users\\swaro\\appdata\\local\\programs\\python\\python37\\lib\\site-packages (from tableschema>=1.12.1->datapackage) (2.8.1)\n",
      "Requirement already satisfied: jsonlines>=1.1 in c:\\users\\swaro\\appdata\\local\\programs\\python\\python37\\lib\\site-packages (from tabulator>=1.29->datapackage) (3.0.0)\n",
      "Requirement already satisfied: sqlalchemy>=0.9.6 in c:\\users\\swaro\\appdata\\local\\programs\\python\\python37\\lib\\site-packages (from tabulator>=1.29->datapackage) (1.4.29)\n",
      "Requirement already satisfied: xlrd>=1.0 in c:\\users\\swaro\\appdata\\local\\programs\\python\\python37\\lib\\site-packages (from tabulator>=1.29->datapackage) (2.0.1)\n",
      "Requirement already satisfied: linear-tsv>=1.0 in c:\\users\\swaro\\appdata\\local\\programs\\python\\python37\\lib\\site-packages (from tabulator>=1.29->datapackage) (1.1.0)\n",
      "Requirement already satisfied: boto3>=1.9 in c:\\users\\swaro\\appdata\\local\\programs\\python\\python37\\lib\\site-packages (from tabulator>=1.29->datapackage) (1.20.26)\n",
      "Requirement already satisfied: ijson>=3.0.3 in c:\\users\\swaro\\appdata\\local\\programs\\python\\python37\\lib\\site-packages (from tabulator>=1.29->datapackage) (3.1.4)\n",
      "Requirement already satisfied: openpyxl>=2.6 in c:\\users\\swaro\\appdata\\local\\programs\\python\\python37\\lib\\site-packages (from tabulator>=1.29->datapackage) (3.0.9)\n",
      "Requirement already satisfied: jmespath<1.0.0,>=0.7.1 in c:\\users\\swaro\\appdata\\local\\programs\\python\\python37\\lib\\site-packages (from boto3>=1.9->tabulator>=1.29->datapackage) (0.10.0)\n",
      "Requirement already satisfied: botocore<1.24.0,>=1.23.26 in c:\\users\\swaro\\appdata\\local\\programs\\python\\python37\\lib\\site-packages (from boto3>=1.9->tabulator>=1.29->datapackage) (1.23.26)\n",
      "Requirement already satisfied: s3transfer<0.6.0,>=0.5.0 in c:\\users\\swaro\\appdata\\local\\programs\\python\\python37\\lib\\site-packages (from boto3>=1.9->tabulator>=1.29->datapackage) (0.5.0)\n",
      "Requirement already satisfied: typing-extensions in c:\\users\\swaro\\appdata\\local\\programs\\python\\python37\\lib\\site-packages (from jsonlines>=1.1->tabulator>=1.29->datapackage) (3.10.0.0)\n",
      "Requirement already satisfied: et-xmlfile in c:\\users\\swaro\\appdata\\local\\programs\\python\\python37\\lib\\site-packages (from openpyxl>=2.6->tabulator>=1.29->datapackage) (1.1.0)\n",
      "Requirement already satisfied: greenlet!=0.4.17 in c:\\users\\swaro\\appdata\\local\\programs\\python\\python37\\lib\\site-packages (from sqlalchemy>=0.9.6->tabulator>=1.29->datapackage) (1.1.2)\n",
      "Requirement already satisfied: zipp>=0.5 in c:\\users\\swaro\\appdata\\local\\programs\\python\\python37\\lib\\site-packages (from importlib-metadata->jsonschema>=2.5->datapackage) (3.4.1)\n",
      "Requirement already satisfied: seaborn in c:\\users\\swaro\\appdata\\local\\programs\\python\\python37\\lib\\site-packages (0.11.2)\n",
      "Requirement already satisfied: pandas>=0.23 in c:\\users\\swaro\\appdata\\local\\programs\\python\\python37\\lib\\site-packages (from seaborn) (1.2.5)\n",
      "Requirement already satisfied: numpy>=1.15 in c:\\users\\swaro\\appdata\\local\\programs\\python\\python37\\lib\\site-packages (from seaborn) (1.20.2)\n",
      "Requirement already satisfied: scipy>=1.0 in c:\\users\\swaro\\appdata\\local\\programs\\python\\python37\\lib\\site-packages (from seaborn) (1.7.3)\n",
      "Requirement already satisfied: matplotlib>=2.2 in c:\\users\\swaro\\appdata\\local\\programs\\python\\python37\\lib\\site-packages (from seaborn) (3.5.1)\n",
      "Requirement already satisfied: packaging>=20.0 in c:\\users\\swaro\\appdata\\local\\programs\\python\\python37\\lib\\site-packages (from matplotlib>=2.2->seaborn) (20.9)\n",
      "Requirement already satisfied: pyparsing>=2.2.1 in c:\\users\\swaro\\appdata\\local\\programs\\python\\python37\\lib\\site-packages (from matplotlib>=2.2->seaborn) (2.4.7)\n",
      "Requirement already satisfied: python-dateutil>=2.7 in c:\\users\\swaro\\appdata\\local\\programs\\python\\python37\\lib\\site-packages (from matplotlib>=2.2->seaborn) (2.8.1)\n",
      "Requirement already satisfied: cycler>=0.10 in c:\\users\\swaro\\appdata\\local\\programs\\python\\python37\\lib\\site-packages (from matplotlib>=2.2->seaborn) (0.11.0)\n",
      "Requirement already satisfied: fonttools>=4.22.0 in c:\\users\\swaro\\appdata\\local\\programs\\python\\python37\\lib\\site-packages (from matplotlib>=2.2->seaborn) (4.28.5)\n",
      "Requirement already satisfied: kiwisolver>=1.0.1 in c:\\users\\swaro\\appdata\\local\\programs\\python\\python37\\lib\\site-packages (from matplotlib>=2.2->seaborn) (1.3.2)\n",
      "Requirement already satisfied: pillow>=6.2.0 in c:\\users\\swaro\\appdata\\local\\programs\\python\\python37\\lib\\site-packages (from matplotlib>=2.2->seaborn) (8.2.0)\n",
      "Requirement already satisfied: pytz>=2017.3 in c:\\users\\swaro\\appdata\\local\\programs\\python\\python37\\lib\\site-packages (from pandas>=0.23->seaborn) (2021.1)\n",
      "Requirement already satisfied: six>=1.5 in c:\\users\\swaro\\appdata\\local\\programs\\python\\python37\\lib\\site-packages (from python-dateutil>=2.7->matplotlib>=2.2->seaborn) (1.16.0)\n"
     ]
    },
    {
     "name": "stderr",
     "output_type": "stream",
     "text": [
      "WARNING: You are using pip version 21.2.4; however, version 22.0.3 is available.\n",
      "You should consider upgrading via the 'c:\\users\\swaro\\appdata\\local\\programs\\python\\python37\\python.exe -m pip install --upgrade pip' command.\n"
     ]
    },
    {
     "name": "stdout",
     "output_type": "stream",
     "text": [
      "Requirement already satisfied: xlsxwriter in c:\\users\\swaro\\appdata\\local\\programs\\python\\python37\\lib\\site-packages (3.0.2)\n"
     ]
    },
    {
     "name": "stderr",
     "output_type": "stream",
     "text": [
      "WARNING: You are using pip version 21.2.4; however, version 22.0.3 is available.\n",
      "You should consider upgrading via the 'c:\\users\\swaro\\appdata\\local\\programs\\python\\python37\\python.exe -m pip install --upgrade pip' command.\n"
     ]
    }
   ],
   "source": [
    "!pip install datapackage\n",
    "!pip install seaborn\n",
    "!pip install xlsxwriter "
   ]
  },
  {
   "cell_type": "code",
   "execution_count": null,
   "id": "ab37da62-631c-442f-9990-a781a637716b",
   "metadata": {},
   "outputs": [],
   "source": [
    "exec(open(\"GUI.py\").read())"
   ]
  },
  {
   "cell_type": "code",
   "execution_count": null,
   "id": "1d4c0810-1ad3-481d-8551-8d398b524e7a",
   "metadata": {},
   "outputs": [],
   "source": []
  }
 ],
 "metadata": {
  "kernelspec": {
   "display_name": "Python 3",
   "language": "python",
   "name": "python3"
  },
  "language_info": {
   "codemirror_mode": {
    "name": "ipython",
    "version": 3
   },
   "file_extension": ".py",
   "mimetype": "text/x-python",
   "name": "python",
   "nbconvert_exporter": "python",
   "pygments_lexer": "ipython3",
   "version": "3.7.4"
  }
 },
 "nbformat": 4,
 "nbformat_minor": 5
}
